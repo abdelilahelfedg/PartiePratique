{
  "nbformat": 4,
  "nbformat_minor": 0,
  "metadata": {
    "colab": {
      "provenance": []
    },
    "kernelspec": {
      "name": "python3",
      "display_name": "Python 3"
    },
    "language_info": {
      "name": "python"
    }
  },
  "cells": [
    {
      "cell_type": "code",
      "execution_count": null,
      "metadata": {
        "id": "XkrRb687ofZA"
      },
      "outputs": [],
      "source": [
        "import tensorflow as tf\n",
        "import tensorflow_datasets as tfds"
      ]
    },
    {
      "cell_type": "code",
      "source": [
        "(ds_train, ds_test), ds_info = tfds.load(\n",
        "    'mnist', split=['train', 'test'], as_supervised=True, with_info=True\n",
        ")"
      ],
      "metadata": {
        "colab": {
          "base_uri": "https://localhost:8080/",
          "height": 185,
          "referenced_widgets": [
            "4f16b8d525734e43b3265cb16f833892",
            "f344acd2ce654a5a839a0e9ebf741548",
            "6d596bbb474a4088b3b4470251c03cbe",
            "62d48c0bc93f45ffa538a0709726636b",
            "0584c42eec1f43c39f8e1e1fe0c5f3bd",
            "56b758a32b8c4bd79e6478c8fa067fe4",
            "d50df63862ea4b7880291602e13ac838",
            "c9702ae04881451eb0c6aaf765b4ef4c",
            "da67487f4c0445dbb82c62ce4d11d010",
            "4ecf8d6ce60a45fd8f6c05cc873e702d",
            "8ee0ba3096814b5eb03b2b04a296e984",
            "9780ecd4c33a48a6992fe47e0344bae3",
            "f5ec620d4dda4d73b0c392ef3aeec0c2",
            "dcf2d6b5db4d45e3abed6de82285b917",
            "bb7cbca1afb048c7b061e5ea22293b37",
            "2d3059c19fcc4ae9822ab502cb93b204",
            "1fe03353bcae45c4a45f44c873e0cab2",
            "d762bb5d659642bdba218b3821189389",
            "9d68085a413c4bc981dd72106d5337c0",
            "cb13c7e1836a46cbbf5f22ed29b32649",
            "5ef6c7c891954ae6bcf45f62237cb43c",
            "6ff75c990c56413ba4cabb0e0708bfbc",
            "07f4e2df5d8240c7ac9c00e1c95baa8a",
            "197c003e488b432f95d58637bd9da531",
            "67bdc7698c9d4169b2fc4ee3b6fc25ff",
            "f4412c447a30486cb16ac6f1f252d7cf",
            "5978e9ab6b4442488d1091b5afd0adb3",
            "c5c445764fdb4c38b8d0013b3b903003",
            "32a80b2b52634760806d45667e2be317",
            "08e1540aa32e4a9fad0a556626facfdd",
            "3f9a441e3cbf4b2ead44aeae00c7bb09",
            "89772069912f487dbbd6902b6181a3e2",
            "a85eb4344b8f474fabd5f476886329e0",
            "d4b0e29d779a47b6bfbd77010a4619fd",
            "3d6eb6cf753947c0a5535f04d114412b",
            "c3cd55fd80fc4182a059b5da76a256c7",
            "f87846f50e934e5b9781716d11aa62e9",
            "c072f6e41b744521a0bbef9ac8d5577e",
            "3a3bd7e29fbf44ef8bb5dbab5a283f41",
            "01b28aad8ce24d389469d1bc7aa35cd8",
            "aada89ab4a834503a6ac5d443a0d7500",
            "10b6a2ed43a34046862db4d155cce488",
            "6d1b9b7adbfb4bd5ba67091d8b229a1c",
            "9b7699505c9842f983644eaab779bced",
            "06a3b6aefd2a41ae83232f5318192f47",
            "38ca31dcb0234bb0b25a5569c58eb785",
            "a3afecb16dbb43be9a8efdac39633b00",
            "2f1190dfdd59466eb7ed6a9bd80836a8",
            "d6a11f70802243a3883488c2be44a5e7",
            "2a8be5f7d0d5458a9d08545d59318f09",
            "4d8c293933774db4b6f64d0bfd3c34b1",
            "955003d1cb7044e2aa648c5dd99a91e2",
            "44f3a9df7bf94205b07c5e5697fe0d1e",
            "48c4241e183c403788dc04540d1f5507",
            "f7f6378fe2bd45c0817d173469955637",
            "42081aaf4ceb4a1b8d092435d154ea55",
            "1d356f413c664daa8efec9e5c0c10c8e",
            "67ad67eaec09469da0cd6a3f62597380",
            "50d0775a4ab543c599aa35b098b44a8b",
            "b145ad909d9b4e83bda6558e3ab624c4",
            "a3c0bd94e1814f00a59520ce7f7a67f3",
            "ceef8cc84bd543b78d921b76b4221244",
            "f12c0214b06240d19d151fb9bcb0ad34",
            "b99c58b602bd45aa938920dcfa64ec29",
            "2e7ea05005ca4107a4aa979089b51518",
            "6456b5a3378347f4b92c52d7a7ea740f",
            "5aecb7e4932e4f178737cfeffa514b0c",
            "a99df4b0735847c58182f5608190461b",
            "b9a5abc16a1345b8a2db5de9a56017e7",
            "0e74911591fa465a8d3cb08f0b127ca1",
            "de5d954e92944f09a3c7c2ca7a4ac472",
            "4265dc8cfcf641f79eaa37186a5bbcbf",
            "9335d74e8be34054bdb9fb02cfa409d0",
            "57d62d96299d440db911ac71e634c871",
            "141563b2db68454898421ecaf2420283",
            "4ea9e898fcd64c57a185ef9ea636ef4d",
            "9861eb47438d4c709ca1680d03f10c8b",
            "1bf30c4fb1774646994e37bff3d810eb",
            "f7e16691825444a5b425eb052bed4f0f",
            "44df16e4c98e4774992e7d853fd93101",
            "04a5ca47b0644d44b8a859c80e50b1f4",
            "635dcc5d47d542a7a6af739f60e5d6b5",
            "05daef7374c74eabbb55639e63cdd6c1",
            "427a37a6fad74330ac483a8d69a12272",
            "3b1445997a4f464d830aea98c8d793e1",
            "368df6213e4945f28dbb5a63f3647ad3",
            "f559fa3f1c214f77a611c43622b9c257",
            "7f69d24c7426469481cef7d6aa1b04f7"
          ]
        },
        "id": "24jVVl8Io9EB",
        "outputId": "7c09f032-6f53-41aa-82c9-b9c492f12fff",
        "collapsed": true
      },
      "execution_count": null,
      "outputs": [
        {
          "output_type": "stream",
          "name": "stderr",
          "text": [
            "WARNING:absl:Variant folder /root/tensorflow_datasets/mnist/3.0.1 has no dataset_info.json\n"
          ]
        },
        {
          "output_type": "stream",
          "name": "stdout",
          "text": [
            "Downloading and preparing dataset Unknown size (download: Unknown size, generated: Unknown size, total: Unknown size) to /root/tensorflow_datasets/mnist/3.0.1...\n"
          ]
        },
        {
          "output_type": "display_data",
          "data": {
            "text/plain": [
              "Dl Completed...: 0 url [00:00, ? url/s]"
            ],
            "application/vnd.jupyter.widget-view+json": {
              "version_major": 2,
              "version_minor": 0,
              "model_id": "4f16b8d525734e43b3265cb16f833892"
            }
          },
          "metadata": {}
        },
        {
          "output_type": "display_data",
          "data": {
            "text/plain": [
              "Dl Size...: 0 MiB [00:00, ? MiB/s]"
            ],
            "application/vnd.jupyter.widget-view+json": {
              "version_major": 2,
              "version_minor": 0,
              "model_id": "9780ecd4c33a48a6992fe47e0344bae3"
            }
          },
          "metadata": {}
        },
        {
          "output_type": "display_data",
          "data": {
            "text/plain": [
              "Extraction completed...: 0 file [00:00, ? file/s]"
            ],
            "application/vnd.jupyter.widget-view+json": {
              "version_major": 2,
              "version_minor": 0,
              "model_id": "07f4e2df5d8240c7ac9c00e1c95baa8a"
            }
          },
          "metadata": {}
        },
        {
          "output_type": "display_data",
          "data": {
            "text/plain": [
              "Generating splits...:   0%|          | 0/2 [00:00<?, ? splits/s]"
            ],
            "application/vnd.jupyter.widget-view+json": {
              "version_major": 2,
              "version_minor": 0,
              "model_id": "d4b0e29d779a47b6bfbd77010a4619fd"
            }
          },
          "metadata": {}
        },
        {
          "output_type": "display_data",
          "data": {
            "text/plain": [
              "Generating train examples...: 0 examples [00:00, ? examples/s]"
            ],
            "application/vnd.jupyter.widget-view+json": {
              "version_major": 2,
              "version_minor": 0,
              "model_id": "06a3b6aefd2a41ae83232f5318192f47"
            }
          },
          "metadata": {}
        },
        {
          "output_type": "display_data",
          "data": {
            "text/plain": [
              "Shuffling /root/tensorflow_datasets/mnist/incomplete.71X6ZA_3.0.1/mnist-train.tfrecord*...:   0%|          | 0\u2026"
            ],
            "application/vnd.jupyter.widget-view+json": {
              "version_major": 2,
              "version_minor": 0,
              "model_id": "42081aaf4ceb4a1b8d092435d154ea55"
            }
          },
          "metadata": {}
        },
        {
          "output_type": "display_data",
          "data": {
            "text/plain": [
              "Generating test examples...: 0 examples [00:00, ? examples/s]"
            ],
            "application/vnd.jupyter.widget-view+json": {
              "version_major": 2,
              "version_minor": 0,
              "model_id": "5aecb7e4932e4f178737cfeffa514b0c"
            }
          },
          "metadata": {}
        },
        {
          "output_type": "display_data",
          "data": {
            "text/plain": [
              "Shuffling /root/tensorflow_datasets/mnist/incomplete.71X6ZA_3.0.1/mnist-test.tfrecord*...:   0%|          | 0/\u2026"
            ],
            "application/vnd.jupyter.widget-view+json": {
              "version_major": 2,
              "version_minor": 0,
              "model_id": "1bf30c4fb1774646994e37bff3d810eb"
            }
          },
          "metadata": {}
        },
        {
          "output_type": "stream",
          "name": "stdout",
          "text": [
            "Dataset mnist downloaded and prepared to /root/tensorflow_datasets/mnist/3.0.1. Subsequent calls will reuse this data.\n"
          ]
        }
      ]
    },
    {
      "cell_type": "code",
      "source": [
        "def preprocess(image, label):\n",
        "    image = tf.cast(image, tf.float32) / 255.0  # Normalisation entre 0 et 1\n",
        "    return tf.reshape(image, [-1]), label       # Aplatir l'image"
      ],
      "metadata": {
        "id": "_Gwb596Ao_sI"
      },
      "execution_count": null,
      "outputs": []
    },
    {
      "cell_type": "code",
      "source": [
        "ds_train = ds_train.map(preprocess).batch(64)\n",
        "ds_test = ds_test.map(preprocess).batch(64)"
      ],
      "metadata": {
        "id": "AXeRJKIOpCEI"
      },
      "execution_count": null,
      "outputs": []
    },
    {
      "cell_type": "code",
      "source": [
        "W1 = tf.Variable(tf.random.normal([784, 128], stddev=0.1))\n",
        "b1 = tf.Variable(tf.zeros([128]))\n",
        "W2 = tf.Variable(tf.random.normal([128, 10], stddev=0.1))\n",
        "b2 = tf.Variable(tf.zeros([10]))"
      ],
      "metadata": {
        "id": "J4_fzuFEpE2A"
      },
      "execution_count": null,
      "outputs": []
    },
    {
      "cell_type": "code",
      "source": [
        "def model(x):\n",
        "    x = tf.nn.relu(tf.matmul(x, W1) + b1)  # Couche 1 + ReLU\n",
        "    return tf.matmul(x, W2) + b2           # Couche 2 (logits, sans softmax)"
      ],
      "metadata": {
        "id": "fk3ugkkcpH8g"
      },
      "execution_count": null,
      "outputs": []
    },
    {
      "cell_type": "code",
      "source": [
        "loss_fn = tf.losses.SparseCategoricalCrossentropy(from_logits=True)\n",
        "optimizer = tf.optimizers.Adam(0.001)"
      ],
      "metadata": {
        "id": "jthJal1HpK14"
      },
      "execution_count": null,
      "outputs": []
    },
    {
      "cell_type": "code",
      "source": [
        "for epoch in range(5):\n",
        "    for x_batch, y_batch in ds_train:\n",
        "        with tf.GradientTape() as tape:\n",
        "            logits = model(x_batch)\n",
        "            loss = loss_fn(y_batch, logits)\n",
        "        grads = tape.gradient(loss, [W1, b1, W2, b2])\n",
        "        optimizer.apply_gradients(zip(grads, [W1, b1, W2, b2]))\n",
        "    print(f\"Epoch {epoch+1} termin\u00e9\")"
      ],
      "metadata": {
        "colab": {
          "base_uri": "https://localhost:8080/"
        },
        "id": "eibhvcqspNbw",
        "outputId": "27c6a7a2-cdb8-4293-ac8a-a77efa7cf674"
      },
      "execution_count": null,
      "outputs": [
        {
          "output_type": "stream",
          "name": "stdout",
          "text": [
            "Epoch 1 termin\u00e9\n",
            "Epoch 2 termin\u00e9\n",
            "Epoch 3 termin\u00e9\n",
            "Epoch 4 termin\u00e9\n",
            "Epoch 5 termin\u00e9\n"
          ]
        }
      ]
    },
    {
      "cell_type": "code",
      "source": [
        "correct = 0\n",
        "total = 0\n",
        "for x_batch, y_batch in ds_test:\n",
        "    logits = model(x_batch)\n",
        "    preds = tf.argmax(logits, axis=1, output_type=tf.int32)\n",
        "    y_batch = tf.cast(y_batch, tf.int32)\n",
        "    correct += tf.reduce_sum(tf.cast(preds == y_batch, tf.int32))\n",
        "    total += x_batch.shape[0]\n",
        "print(\"Accuracy :\", correct.numpy() / total)"
      ],
      "metadata": {
        "colab": {
          "base_uri": "https://localhost:8080/"
        },
        "id": "4kFNLtJIpP2Y",
        "outputId": "52413d7d-007e-446f-ff96-27a9118906ce"
      },
      "execution_count": null,
      "outputs": [
        {
          "output_type": "stream",
          "name": "stdout",
          "text": [
            "Accuracy : 0.9744\n"
          ]
        }
      ]
    }
  ]
}