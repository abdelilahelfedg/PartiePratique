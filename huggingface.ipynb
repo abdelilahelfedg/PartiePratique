{
  "cells": [
    {
      "cell_type": "code",
      "execution_count": 2,
      "metadata": {
        "id": "zeJWr6i3RmCL"
      },
      "outputs": [],
      "source": [
        "import datasets\n",
        "from datasets import load_dataset\n",
        "import matplotlib.pyplot as plt\n",
        "import numpy as np\n",
        "\n"
      ]
    },
    {
      "cell_type": "code",
      "execution_count": 3,
      "metadata": {
        "colab": {
          "base_uri": "https://localhost:8080/",
          "height": 472,
          "referenced_widgets": [
            "0bb5289dc9374d2c93eecdf9565634b2",
            "b9747b3f41344b2da3b284a56faaaf2c",
            "0e06786084264af28bb2f393f951492b",
            "1421fcefc1a142f98b10e2f93e40606a",
            "39955b026a434582b69be14ec2a0f88e",
            "92cb29102a0240dc919f4ff421f250e1",
            "ca66bd1ba6024ae795ea0b9c5021593c",
            "28712e70a0cb4a3da909946fd1a5f117",
            "d9b31e5386f54dacb231c132a25dcb20",
            "26e0ac68193448319733b53b99269282",
            "8d01465551d94f63a43b670b589fc041",
            "a42750cc1ddf4e7b82314f072e2d2a85",
            "68cbb749e2a74464979e64546476f76d",
            "4ef2f599da8a4ef9bba8e732049a553c",
            "87538e43bee843bf82a0729e0429160a",
            "2571f6ebaf3b490bbf57ed850e0fdab6",
            "2d3c23f8dca94a5fa46fe99abe0f9c66",
            "09818b331e86404b875fb6f11fb89488",
            "867a1cf22a7040bc98d023c1c03dd2e9",
            "fa14babb182e48e1a973a3a8e8d16bd9",
            "b3459ddab1864d3f8f4ca1cd4ba168af",
            "e6f9e970865a4d819c8f06842c61277c",
            "6fb86f65df794531b00469e25565567f",
            "3bd9a36e14a949f6969265767ed10b78",
            "eeb4ba69d71b431ebcd7a9024c334e50",
            "8726c4e2c756454ba67788d4f5702e90",
            "705c8f9a889f410ca0214430b143d10d",
            "3a7e33b6413a4f7abc21dc19c664b560",
            "7f1d7e35c5474f8ab3afabd1cb7fc81b",
            "f993f8dfa7f04dafbd054c8752d09f1b",
            "a54c82577f7844afaa7cdeeb9ca3cd43",
            "4c28e075effd40bc989e4a0737debcfb",
            "d2f7994c183c44849e1a4bd9500c9961",
            "d68b1d286c20489cb8dfafec42cda56e",
            "91d8206ebbe34b299c8159f7014040c0",
            "216cd91659004f60b60d7f4d2ca9fd21",
            "3c08b1c01daf476bb676a1e5ec8e9713",
            "2150b00d933b4e89959be85f2906bbe8",
            "909cef2c6de9472786356201afffb03c",
            "db830f5c790f472c9e9a78eb4f0af559",
            "3d48b626f7ac476db130deedeab68b44",
            "bd491782f4b7425e8f9824a4b0b8cbdc",
            "2e7e95cb0ac94285ba083e967dbac609",
            "12ab4423194f4e1abbab54e86b935ab2",
            "43b007490b9a45768c10c5987ae2110a",
            "681c1730bd404d7a94c42a2d02c658b2",
            "4cbac81af23b4df3b6f888f7c1e33cf7",
            "53054f74fee14b4db62c5916511d75be",
            "83cdac0ebba942e4a7b81c41a2183ae7",
            "ae09f27ff69141c3bf400540268d4d31",
            "0469773b4b80401f9730c3001f8c86bd",
            "052d3cf0d8694ce1a6cbe9b4cfb86a0c",
            "4f3c4dc0d8af4124bf928458fe15a9ef",
            "72be156e44e44e848d7ea269fc64e377",
            "18157d98223249799aa3acc2989d0569"
          ]
        },
        "id": "aDBCO29pstYP",
        "outputId": "b5497744-9f19-43ed-aa56-9866f8feee79"
      },
      "outputs": [
        {
          "name": "stderr",
          "output_type": "stream",
          "text": [
            "/usr/local/lib/python3.11/dist-packages/huggingface_hub/utils/_auth.py:94: UserWarning: \n",
            "The secret `HF_TOKEN` does not exist in your Colab secrets.\n",
            "To authenticate with the Hugging Face Hub, create a token in your settings tab (https://huggingface.co/settings/tokens), set it as secret in your Google Colab and restart your session.\n",
            "You will be able to reuse this secret in all of your notebooks.\n",
            "Please note that authentication is recommended but still optional to access public models or datasets.\n",
            "  warnings.warn(\n"
          ]
        },
        {
          "data": {
            "application/vnd.jupyter.widget-view+json": {
              "model_id": "0bb5289dc9374d2c93eecdf9565634b2",
              "version_major": 2,
              "version_minor": 0
            },
            "text/plain": [
              "README.md:   0%|          | 0.00/6.97k [00:00<?, ?B/s]"
            ]
          },
          "metadata": {},
          "output_type": "display_data"
        },
        {
          "data": {
            "application/vnd.jupyter.widget-view+json": {
              "model_id": "a42750cc1ddf4e7b82314f072e2d2a85",
              "version_major": 2,
              "version_minor": 0
            },
            "text/plain": [
              "train-00000-of-00001.parquet:   0%|          | 0.00/15.6M [00:00<?, ?B/s]"
            ]
          },
          "metadata": {},
          "output_type": "display_data"
        },
        {
          "data": {
            "application/vnd.jupyter.widget-view+json": {
              "model_id": "6fb86f65df794531b00469e25565567f",
              "version_major": 2,
              "version_minor": 0
            },
            "text/plain": [
              "test-00000-of-00001.parquet:   0%|          | 0.00/2.60M [00:00<?, ?B/s]"
            ]
          },
          "metadata": {},
          "output_type": "display_data"
        },
        {
          "data": {
            "application/vnd.jupyter.widget-view+json": {
              "model_id": "d68b1d286c20489cb8dfafec42cda56e",
              "version_major": 2,
              "version_minor": 0
            },
            "text/plain": [
              "Generating train split:   0%|          | 0/60000 [00:00<?, ? examples/s]"
            ]
          },
          "metadata": {},
          "output_type": "display_data"
        },
        {
          "data": {
            "application/vnd.jupyter.widget-view+json": {
              "model_id": "43b007490b9a45768c10c5987ae2110a",
              "version_major": 2,
              "version_minor": 0
            },
            "text/plain": [
              "Generating test split:   0%|          | 0/10000 [00:00<?, ? examples/s]"
            ]
          },
          "metadata": {},
          "output_type": "display_data"
        },
        {
          "name": "stdout",
          "output_type": "stream",
          "text": [
            "Structure du dataset: DatasetDict({\n",
            "    train: Dataset({\n",
            "        features: ['image', 'label'],\n",
            "        num_rows: 60000\n",
            "    })\n",
            "    test: Dataset({\n",
            "        features: ['image', 'label'],\n",
            "        num_rows: 10000\n",
            "    })\n",
            "})\n",
            "Colonnes du dataset: ['image', 'label']\n"
          ]
        }
      ],
      "source": [
        "# Charger le jeu de donn\u00e9es MNIST depuis Hugging Face\n",
        "dataset = load_dataset(\"mnist\")\n",
        "\n",
        "# Explorer la structure du dataset\n",
        "print(\"Structure du dataset:\", dataset)\n",
        "print(\"Colonnes du dataset:\", dataset['train'].column_names)\n",
        "\n"
      ]
    },
    {
      "cell_type": "code",
      "execution_count": 4,
      "metadata": {
        "colab": {
          "base_uri": "https://localhost:8080/"
        },
        "id": "ilBCpMlAstYQ",
        "outputId": "6ec94347-afa9-4d97-d9db-4bda608d2e8c"
      },
      "outputs": [
        {
          "name": "stdout",
          "output_type": "stream",
          "text": [
            "Nombre d'exemples d'entra\u00eenement: 60000\n",
            "Nombre d'exemples de test: 10000\n"
          ]
        }
      ],
      "source": [
        "# Acc\u00e9der aux donn\u00e9es d'entra\u00eenement et de test\n",
        "train_data = dataset['train']\n",
        "test_data = dataset['test']\n",
        "\n",
        "# Afficher quelques informations sur les donn\u00e9es\n",
        "print(f\"Nombre d'exemples d'entra\u00eenement: {len(train_data)}\")\n",
        "print(f\"Nombre d'exemples de test: {len(test_data)}\")\n",
        "\n",
        "# Fonction pour afficher une image MNIST\n",
        "def display_image(example, index):\n",
        "    image = np.array(example['image'])\n",
        "    label = example['label']\n",
        "\n",
        "    plt.figure(figsize=(4, 4))\n",
        "    plt.imshow(image, cmap='gray')\n",
        "    plt.title(f\"Chiffre: {label}\")\n",
        "    plt.axis('off')\n",
        "    plt.savefig(f'mnist_example_{index}.png')\n",
        "    plt.close()\n",
        "\n"
      ]
    },
    {
      "cell_type": "code",
      "execution_count": 5,
      "metadata": {
        "id": "BG1jt6aEstYQ"
      },
      "outputs": [],
      "source": [
        "# Afficher les 5 premi\u00e8res images du jeu d'entra\u00eenement\n",
        "for i in range(5):\n",
        "    display_image(train_data[i], i)\n",
        "\n",
        "# Pr\u00e9traitement simple : normalisation des pixels\n",
        "def normalize_images(example):\n",
        "    # Convertir l'image en array numpy et normaliser (0-255 -> 0-1)\n",
        "    example['image'] = np.array(example['image']) / 255.0\n",
        "    return example\n",
        "\n"
      ]
    },
    {
      "cell_type": "code",
      "execution_count": 6,
      "metadata": {
        "colab": {
          "base_uri": "https://localhost:8080/",
          "height": 98,
          "referenced_widgets": [
            "10fd259d7aba4c2ca1b38473d1ad8546",
            "bb65fc943b6849ffb9547e8b14a7a7b3",
            "77f429876c8c44c59f00d9fbafe49731",
            "b0ba6936679c43ba9f272afe216045fe",
            "86f40c1d613945ad872bda48efcc7160",
            "4c33917bcd9e4004815d852488f60b31",
            "05b20145d63d4b819774d071cf8bd002",
            "1f80c85aaab84bf0b3195e5e0f394636",
            "74a6a596d4d543bf80451fe324067eb2",
            "5f8d6f76fbbb45c38b642dc59588a105",
            "d5689ae3ffbb4fa4af1b6666d7df14b5",
            "d61b7f65e6664643a26dd92c1c76d34b",
            "98b91d9638b04be78c6e0dffd502d7cc",
            "4ba59c6fb4944576a6c72aaf28e6a753",
            "17ebb4319d4f4e2b9fcdef2aa49499eb",
            "e7b686684a1b45939062cc4ab0ee3405",
            "ae1908df92884976af192fc9bcaffdc3",
            "1d637ab760e64ae2bd5c7adad8c6cd57",
            "d66dd939fa3c4802be8124e9950262ac",
            "8bb07052f29048f18532eb948252c7f3",
            "f522755cd9e0413a9bd25269c61ce9f7",
            "54366c535e2d4293abbdde68bcbac6c8"
          ]
        },
        "id": "K41d8KpAstYR",
        "outputId": "9c3d748f-e9ee-4283-8db3-5f750705c261"
      },
      "outputs": [
        {
          "data": {
            "application/vnd.jupyter.widget-view+json": {
              "model_id": "10fd259d7aba4c2ca1b38473d1ad8546",
              "version_major": 2,
              "version_minor": 0
            },
            "text/plain": [
              "Map:   0%|          | 0/60000 [00:00<?, ? examples/s]"
            ]
          },
          "metadata": {},
          "output_type": "display_data"
        },
        {
          "data": {
            "application/vnd.jupyter.widget-view+json": {
              "model_id": "d61b7f65e6664643a26dd92c1c76d34b",
              "version_major": 2,
              "version_minor": 0
            },
            "text/plain": [
              "Map:   0%|          | 0/10000 [00:00<?, ? examples/s]"
            ]
          },
          "metadata": {},
          "output_type": "display_data"
        },
        {
          "name": "stdout",
          "output_type": "stream",
          "text": [
            "Valeurs min/max apr\u00e8s normalisation: 0.00/1.00\n"
          ]
        }
      ],
      "source": [
        "# Appliquer la normalisation au dataset\n",
        "train_data_normalized = train_data.map(normalize_images)\n",
        "test_data_normalized = test_data.map(normalize_images)\n",
        "\n",
        "# V\u00e9rifier les valeurs normalis\u00e9es\n",
        "sample_image = np.array(train_data_normalized[0]['image']) # Convert to NumPy array\n",
        "print(f\"Valeurs min/max apr\u00e8s normalisation: {sample_image.min():.2f}/{sample_image.max():.2f}\")\n",
        "\n"
      ]
    },
    {
      "cell_type": "code",
      "execution_count": 7,
      "metadata": {
        "colab": {
          "base_uri": "https://localhost:8080/",
          "height": 98,
          "referenced_widgets": [
            "38eed4b30627440eafeb459d0e61d7a3",
            "10655b2306b14e5a94e310d2ad628537",
            "a064aea1291440a384e56a93368a00f0",
            "25e65b51bc154097a2adb5c5486a74cd",
            "58b0a9e20c5f453883339c83b7f5bcca",
            "92b974f716d6409390a36639d5633b0f",
            "0ce15a3dca704f698d9cbb73968616b5",
            "e8b81cc98d5a4bf2981545305b0a74c6",
            "44fcf82c242d40ba8d304099ef2a7956",
            "a8f20893131b4910978b149e2eceffb3",
            "b612fc6587244d70a2641c408e4d4400",
            "91fb293e861240d5a0dd01c29d06518c",
            "e44c540e974e4678b62929002bf4650f",
            "1016239fb2c0449993f999e41cdb652d",
            "76c20f8d56b9467fae0e5c751fa316d3",
            "0a4e7392456e45efaaa2921d27ddce38",
            "64e444679b2442a2bb81ca86fec2e1b1",
            "e38b93824cb74739a1a4af34a120533b",
            "0443151fdaf44bdfa430e3a635081b5e",
            "f7f16d472783423f8857e20e8573f4a4",
            "6106378d46c747f08a5041d69323bfa2",
            "3b462ba8c2264ae9b1aa130b30912ef5"
          ]
        },
        "id": "1L3TtHfSstYR",
        "outputId": "a4db4b32-4106-40e7-efd3-bac758bfad74"
      },
      "outputs": [
        {
          "data": {
            "application/vnd.jupyter.widget-view+json": {
              "model_id": "38eed4b30627440eafeb459d0e61d7a3",
              "version_major": 2,
              "version_minor": 0
            },
            "text/plain": [
              "Filter:   0%|          | 0/60000 [00:00<?, ? examples/s]"
            ]
          },
          "metadata": {},
          "output_type": "display_data"
        },
        {
          "name": "stdout",
          "output_type": "stream",
          "text": [
            "Nombre d'images du chiffre 5: 5421\n"
          ]
        },
        {
          "data": {
            "application/vnd.jupyter.widget-view+json": {
              "model_id": "91fb293e861240d5a0dd01c29d06518c",
              "version_major": 2,
              "version_minor": 0
            },
            "text/plain": [
              "Saving the dataset (0/1 shards):   0%|          | 0/5421 [00:00<?, ? examples/s]"
            ]
          },
          "metadata": {},
          "output_type": "display_data"
        }
      ],
      "source": [
        "# Exemple de filtrage : s\u00e9lectionner uniquement les images du chiffre 5\n",
        "def filter_fives(example):\n",
        "    return example['label'] == 5\n",
        "\n",
        "fives_only = train_data.filter(filter_fives)\n",
        "print(f\"Nombre d'images du chiffre 5: {len(fives_only)}\")\n",
        "\n",
        "# Sauvegarder une partie du dataset localement (optionnel)\n",
        "fives_only.save_to_disk(\"mnist_fives_only\")"
      ]
    }
  ],
  "metadata": {
    "accelerator": "GPU",
    "colab": {
      "gpuType": "T4",
      "provenance": []
    },
    "kernelspec": {
      "display_name": "Python 3",
      "name": "python3"
    },
    "language_info": {
      "name": "python",
      "version": "3.12.10"
    }
  },
  "nbformat": 4,
  "nbformat_minor": 0
}