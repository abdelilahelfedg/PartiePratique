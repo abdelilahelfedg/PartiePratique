{
  "cells": [
    {
      "cell_type": "code",
      "source": [
        "from fastai.vision.all import *\n",
        "import matplotlib.pyplot as plt\n",
        "import numpy as np\n",
        "\n"
      ],
      "metadata": {
        "id": "zeJWr6i3RmCL"
      },
      "execution_count": 61,
      "outputs": []
    },
    {
      "cell_type": "code",
      "source": [
        "# Charger le jeu de données MNIST\n",
        "path = untar_data(URLs.MNIST)\n",
        "\n",
        "# Créer des DataLoaders pour l'entraînement et la validation\n",
        "dls = ImageDataLoaders.from_folder(\n",
        "    path,\n",
        "    train='training',\n",
        "    valid='testing',\n",
        "    seed=42,\n",
        "    bs=64,\n",
        "    item_tfms=Resize(28)  # MNIST images are 28x28\n",
        ")\n",
        "\n"
      ],
      "metadata": {
        "id": "i4UZbt9unyvo"
      },
      "execution_count": 62,
      "outputs": []
    },
    {
      "cell_type": "code",
      "source": [
        "# Explorer la structure des données\n",
        "print(f\"Catégories: {dls.vocab}\")\n",
        "print(f\"Nombre de batches d'entraînement: {len(dls.train)}\")\n",
        "print(f\"Nombre de batches de validation: {len(dls.valid)}\")\n",
        "\n",
        "# Fonction pour afficher une image MNIST\n",
        "def display_image(img, label, index):\n",
        "    plt.figure(figsize=(4, 4))\n",
        "    plt.imshow(img, cmap='gray')\n",
        "    plt.title(f\"Chiffre: {label}\")\n",
        "    plt.axis('off')\n",
        "    plt.savefig(f'mnist_example_{index}.png')\n",
        "    plt.close()\n",
        "\n"
      ],
      "metadata": {
        "id": "jXBtTUs9n2Xa",
        "outputId": "3df5c0eb-1046-4112-cda2-ff1854f60b80",
        "colab": {
          "base_uri": "https://localhost:8080/"
        }
      },
      "execution_count": 63,
      "outputs": [
        {
          "output_type": "stream",
          "name": "stdout",
          "text": [
            "Catégories: ['0', '1', '2', '3', '4', '5', '6', '7', '8', '9']\n",
            "Nombre de batches d'entraînement: 937\n",
            "Nombre de batches de validation: 157\n"
          ]
        }
      ]
    },
    {
      "cell_type": "code",
      "source": [
        "# Afficher les 5 premières images du jeu d'entraînement\n",
        "batch = dls.train.one_batch()\n",
        "images, labels = batch[0][:5], batch[1][:5]\n",
        "for i in range(5):\n",
        "    img = images[i].permute(1, 2, 0).cpu().numpy()  # Convertir tensor en numpy\n",
        "    label = dls.vocab[labels[i]]\n",
        "    display_image(img, label, i)\n",
        "\n"
      ],
      "metadata": {
        "id": "y6FVt7-1n415"
      },
      "execution_count": 64,
      "outputs": []
    },
    {
      "cell_type": "code",
      "source": [
        "# Prétraitement : normalisation des pixels\n",
        "def normalize_images(batch):\n",
        "    # Normaliser (0-255 -> 0-1)\n",
        "    batch[0] = batch[0] / 255.0\n",
        "    return batch\n",
        "\n",
        "# Appliquer la normalisation via un transform\n",
        "dls.after_batch = normalize_images\n",
        "\n"
      ],
      "metadata": {
        "id": "eYMwbEzmn7Eb"
      },
      "execution_count": 65,
      "outputs": []
    },
    {
      "cell_type": "code",
      "source": [
        "# Vérifier les valeurs normalisées\n",
        "sample_batch = dls.train.one_batch()\n",
        "sample_image = sample_batch[0][0].cpu().numpy()\n",
        "print(f\"Valeurs min/max après normalisation: {sample_image.min():.2f}/{sample_image.max():.2f}\")\n",
        "\n",
        "# Exemple de filtrage : sélectionner uniquement les images du chiffre 5\n",
        "def filter_fives(items):\n",
        "    return [item for item in items if '5' in str(item[1])]\n",
        "\n"
      ],
      "metadata": {
        "id": "QPdCpuQFn-dU",
        "outputId": "69776986-b827-40b4-cdaf-968e5f581a49",
        "colab": {
          "base_uri": "https://localhost:8080/"
        }
      },
      "execution_count": 66,
      "outputs": [
        {
          "output_type": "stream",
          "name": "stdout",
          "text": [
            "Valeurs min/max après normalisation: 0.00/1.00\n"
          ]
        }
      ]
    },
    {
      "cell_type": "code",
      "source": [
        "# Créer un nouveau DataLoader avec uniquement le chiffre 5\n",
        "filtered_dls = ImageDataLoaders.from_folder(\n",
        "    path,\n",
        "    train='training',\n",
        "    valid='testing',\n",
        "    seed=42,\n",
        "    bs=64,\n",
        "    item_tfms=Resize(28),\n",
        "    get_items=filter_fives\n",
        ")\n",
        "\n",
        "print(f\"Nombre d'images du chiffre 5 (entraînement): {len(filtered_dls.train_ds)}\")\n"
      ],
      "metadata": {
        "id": "tXwEwDI2oAtn",
        "outputId": "982da0c4-0d1f-4663-90c1-8d7f89bbc954",
        "colab": {
          "base_uri": "https://localhost:8080/"
        }
      },
      "execution_count": 67,
      "outputs": [
        {
          "output_type": "stream",
          "name": "stdout",
          "text": [
            "Nombre d'images du chiffre 5 (entraînement): 60000\n"
          ]
        }
      ]
    }
  ],
  "metadata": {
    "accelerator": "GPU",
    "colab": {
      "gpuType": "T4",
      "provenance": []
    },
    "kernelspec": {
      "display_name": "Python 3",
      "name": "python3"
    },
    "language_info": {
      "name": "python"
    }
  },
  "nbformat": 4,
  "nbformat_minor": 0
}